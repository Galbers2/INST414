{
 "cells": [
  {
   "cell_type": "code",
   "execution_count": 63,
   "id": "2bd5f58b-e7d6-402e-9979-7572bb615a74",
   "metadata": {},
   "outputs": [
    {
     "name": "stdout",
     "output_type": "stream",
     "text": [
      "Year: 2020, Population: 326569308\n",
      "Year: 2019, Population: 324697795\n",
      "Year: 2018, Population: 322903030\n",
      "Year: 2017, Population: 321004407\n",
      "Year: 2016, Population: 318558162\n",
      "The average population increase over the last 5 years in the USA is 1602229\n"
     ]
    }
   ],
   "source": [
    "import requests\n",
    "\n",
    "api_prefix =\"https://datausa.io/api/data?drilldowns=Nation&measures=Population\"\n",
    "\n",
    "# Gets the Api from the url\n",
    "resp = requests.get(api_prefix,\n",
    "                    params={\"Year\": \"2016,2017,2018,2019,2020\"})\n",
    "# Parses the file\n",
    "resp_obj = resp.json()\n",
    "# Initalize the two counters \n",
    "total_population_change = 0\n",
    "previous_population = 0\n",
    "\n",
    "# Going through each year to see the population and year\n",
    "for item in resp_obj['data']:\n",
    "    year = item['Year']\n",
    "    population = item['Population']\n",
    "#Calclating the change over the 5 years\n",
    "    if previous_population != 0:\n",
    "        pop_change = population - previous_population\n",
    "        total_population_change += pop_change\n",
    "\n",
    "    previous_population = population\n",
    "\n",
    "    print(f'Year: {year}, Population: {population}')\n",
    "\n",
    "# Calculate the average population change per year\n",
    "avg_change = total_population_change / -5\n",
    "print(\"The average population increase over the last 5 years in the USA is\", int(avg_change))"
   ]
  }
 ],
 "metadata": {
  "kernelspec": {
   "display_name": "Python 3 (ipykernel)",
   "language": "python",
   "name": "python3"
  },
  "language_info": {
   "codemirror_mode": {
    "name": "ipython",
    "version": 3
   },
   "file_extension": ".py",
   "mimetype": "text/x-python",
   "name": "python",
   "nbconvert_exporter": "python",
   "pygments_lexer": "ipython3",
   "version": "3.9.12"
  }
 },
 "nbformat": 4,
 "nbformat_minor": 5
}
