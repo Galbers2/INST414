{
 "cells": [
  {
   "cell_type": "code",
   "execution_count": 4,
   "id": "2bd5f58b-e7d6-402e-9979-7572bb615a74",
   "metadata": {},
   "outputs": [
    {
     "name": "stdout",
     "output_type": "stream",
     "text": [
      "Year: 2020, Population: 326569308\n",
      "Year: 2019, Population: 324697795\n",
      "Year: 2018, Population: 322903030\n",
      "Year: 2017, Population: 321004407\n",
      "Year: 2016, Population: 318558162\n",
      "The average population increase over the last 5 years in the USA is 1602229\n"
     ]
    }
   ],
   "source": [
    "import requests\n",
    "import matplotlib.pyplot as plt\n",
    "\n",
    "api_prefix =\"https://datausa.io/api/data?drilldowns=Nation&measures=Population\"\n",
    "\n",
    "# Gets the Api from the url\n",
    "resp = requests.get(api_prefix,\n",
    "                    params={\"Year\": \"2016,2017,2018,2019,2020\"})\n",
    "# Parses the file\n",
    "resp_obj = resp.json()\n",
    "# Initalize the two counters \n",
    "total_population_change = 0\n",
    "previous_population = 0\n",
    "years = []\n",
    "populations = []\n",
    "\n",
    "# Going through each year to see the population and year\n",
    "for item in resp_obj['data']:\n",
    "    year = item['Year']\n",
    "    population = item['Population']\n",
    "    \n",
    "    # Append the data to the lists\n",
    "    years.append(year)\n",
    "    populations.append(population)\n",
    "#Calclating the change over the 5 years\n",
    "    if previous_population != 0:\n",
    "        pop_change = population - previous_population\n",
    "        total_population_change += pop_change\n",
    "\n",
    "    previous_population = population\n",
    "\n",
    "    print(f'Year: {year}, Population: {population}')\n",
    "\n",
    "# Calculate the average population change per year\n",
    "avg_change = total_population_change / -5\n",
    "print(\"The average population increase over the last 5 years in the USA is\", int(avg_change))"
   ]
  },
  {
   "cell_type": "code",
   "execution_count": 17,
   "id": "3f0a4a7f-7322-4847-ab07-5e2ac4d295e6",
   "metadata": {},
   "outputs": [
    {
     "data": {
      "image/png": "[encoded data removed]",
      "text/plain": [
       "<Figure size 432x288 with 1 Axes>"
      ]
     },
     "metadata": {
      "needs_background": "light"
     },
     "output_type": "display_data"
    }
   ],
   "source": [
    "# Create a bar graph\n",
    "plt.bar(years, populations, color='skyblue')\n",
    "plt.xlabel('Year')\n",
    "plt.ylabel('Population')\n",
    "plt.title('US Population Over the Years (2016-2020)')\n",
    "plt.ylim(3.1e8, 3.3e8) \n",
    "# Display the graph\n",
    "plt.show()"
   ]
  },
  {
   "cell_type": "code",
   "execution_count": null,
   "id": "1ac53bc7-8768-4779-9e08-1766fb50b0cd",
   "metadata": {},
   "outputs": [],
   "source": []
  }
 ],
 "metadata": {
  "kernelspec": {
   "display_name": "Python 3 (ipykernel)",
   "language": "python",
   "name": "python3"
  },
  "language_info": {
   "codemirror_mode": {
    "name": "ipython",
    "version": 3
   },
   "file_extension": ".py",
   "mimetype": "text/x-python",
   "name": "python",
   "nbconvert_exporter": "python",
   "pygments_lexer": "ipython3",
   "version": "3.9.12"
  }
 },
 "nbformat": 4,
 "nbformat_minor": 5
}
